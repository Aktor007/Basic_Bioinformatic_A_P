{
  "nbformat": 4,
  "nbformat_minor": 0,
  "metadata": {
    "colab": {
      "name": "Grundlage_Bioinformatik.ipynb",
      "provenance": [],
      "collapsed_sections": [],
      "include_colab_link": true
    },
    "kernelspec": {
      "name": "python3",
      "display_name": "Python 3"
    },
    "language_info": {
      "name": "python"
    }
  },
  "cells": [
    {
      "cell_type": "markdown",
      "metadata": {
        "id": "view-in-github",
        "colab_type": "text"
      },
      "source": [
        "<a href=\"https://colab.research.google.com/github/Aktor007/Basic_Bioinformatic_A_P/blob/main/Grundlage_Bioinformatik.ipynb\" target=\"_parent\"><img src=\"https://colab.research.google.com/assets/colab-badge.svg\" alt=\"Open In Colab\"/></a>"
      ]
    },
    {
      "cell_type": "code",
      "execution_count": null,
      "metadata": {
        "id": "hOxql26RA0hu",
        "outputId": "8360e904-c63b-4204-a6c6-b51d1dc3ee94",
        "colab": {
          "base_uri": "https://localhost:8080/"
        }
      },
      "outputs": [
        {
          "output_type": "stream",
          "name": "stdout",
          "text": [
            "hello world\n"
          ]
        }
      ],
      "source": [
        "print(\"hello world\")"
      ]
    },
    {
      "cell_type": "markdown",
      "source": [
        "**List of Code Challenges - ToDo List**\n",
        "\n",
        "1.   Where in the Genome Does DNA Replication Begin ? ()\n",
        "\n",
        "\n",
        "*   A Journey of a Thousand Miles ()\n",
        "*   Hidden Messages in the Replication Origin ()\n",
        "    - DnaA boxes ()\n",
        "    - Hidden messages in \"The Gold-Bug\" ()\n",
        "    - Counting words ()\n",
        "    - The Frequent Words Problem ()\n",
        "    - Frequent words in Vibrio cholerae ()\n",
        "\n",
        "*   Some Hidden Messages are More Surprising than Others ()\n",
        "*   .....\n",
        "\n"
      ],
      "metadata": {
        "id": "OANg09UnI9WU"
      }
    },
    {
      "cell_type": "code",
      "source": [
        ""
      ],
      "metadata": {
        "id": "AOJ3y0aQBgZ-"
      },
      "execution_count": null,
      "outputs": []
    }
  ]
}